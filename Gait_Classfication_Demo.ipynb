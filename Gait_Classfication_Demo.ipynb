{
 "cells": [
  {
   "cell_type": "markdown",
   "id": "ad7f7d12",
   "metadata": {},
   "source": [
    "# Gait_Classification\n",
    "**CUAI_2022_Summer_Conference**\n",
    "- TaeYun Kim (💻 School of Computer Science & Engineering, Chung-Ang Univ.)\n",
    "- MinKi Kang (💻 School of Computer Science & Engineering, Chung-Ang Univ.)\n",
    "- JuHo Lee (💻 School of Computer Science & Engineering, Chung-Ang Univ.)"
   ]
  },
  {
   "cell_type": "markdown",
   "id": "547c787b",
   "metadata": {},
   "source": [
    "# How To Use\n",
    "* with demo video"
   ]
  },
  {
   "cell_type": "markdown",
   "id": "e34d50a7",
   "metadata": {},
   "source": [
    "### Import module"
   ]
  },
  {
   "cell_type": "code",
   "execution_count": 6,
   "id": "c5aeaf27",
   "metadata": {},
   "outputs": [],
   "source": [
    "import module.feature_extract as feature\n",
    "import module.gait_classification as gait\n",
    "import module.visualize as visualize"
   ]
  },
  {
   "cell_type": "markdown",
   "id": "2a7d61ef",
   "metadata": {},
   "source": [
    "### Create Custom Dataset (Options)"
   ]
  },
  {
   "cell_type": "code",
   "execution_count": null,
   "id": "64b2522a",
   "metadata": {},
   "outputs": [],
   "source": [
    "PATH = os.listdir(\"videos/\")"
   ]
  },
  {
   "cell_type": "code",
   "execution_count": null,
   "id": "922d916e",
   "metadata": {
    "scrolled": false
   },
   "outputs": [],
   "source": [
    "for path in PATH:       \n",
    "    i = 0\n",
    "    VIDEO_PATH = \"videos/\" + path +\"/\" \n",
    "    for video_file in os.listdir(VIDEO_PATH):\n",
    "        dataframe = feature.extract_keypoint(path = VIDEO_PATH + video_file, \n",
    "                                        save_path = \"dataset/\"+ path + \"/\",\n",
    "                                        show_video = False, save_file_name = str(i))\n",
    "        i = i + 1"
   ]
  },
  {
   "cell_type": "code",
   "execution_count": null,
   "id": "1e9fcb08",
   "metadata": {},
   "outputs": [],
   "source": [
    "# Please \n",
    "FILE_PATH = os.listdir(\"dataset/\")\n",
    "gait_class = FILE_PATH\n",
    "result = pd.DataFrame()"
   ]
  },
  {
   "cell_type": "code",
   "execution_count": null,
   "id": "245cb665",
   "metadata": {},
   "outputs": [],
   "source": [
    "i = 0\n",
    "for path in gait_class:       \n",
    "    CSV_PATH = \"dataset/\" + path +\"/\" \n",
    "    for dataset in os.listdir(CSV_PATH):\n",
    "        dataframe = pd.read_csv(CSV_PATH + dataset)\n",
    "        dataframe = feature.cut_dataframe(dataframe, drop = 0.1)\n",
    "        dataframe[\"class\"] = i\n",
    "        result = pd.concat([result, dataframe])\n",
    "    i = i + 1\n",
    "result.to_csv(\"result/keypoints.csv\", index = False)\n",
    "result = pd.read_csv(\"result/keypoints.csv\")"
   ]
  },
  {
   "cell_type": "code",
   "execution_count": null,
   "id": "fe241426",
   "metadata": {},
   "outputs": [],
   "source": [
    "feature_angle = feature.compute_angle_feature(path = \"result/keypoints.csv\", save_path = \"feature/\", save_file_name = \"result\")\n",
    "feature_len = feature.compute_len_feature(path = \"result/keypoints.csv\", save_path = \"feature/\", save_file_name = \"result\")\n",
    "feature_diff = feature.compute_diff_feature(path = \"result/keypoints.csv\", save_path = \"feature/\", save_file_name = \"result\")\n",
    "feature_result = pd.concat([feature_angle, feature_diff, feature_len], axis = 1)\n",
    "feature_result.to_csv(\"result/features.csv\", index = False)"
   ]
  },
  {
   "cell_type": "markdown",
   "id": "8459e89d",
   "metadata": {},
   "source": [
    "### Train Custom Dataset (Options)"
   ]
  },
  {
   "cell_type": "markdown",
   "id": "a3883af1",
   "metadata": {},
   "source": [
    "### Gait Classification\n",
    "* result is dictionary type"
   ]
  },
  {
   "cell_type": "code",
   "execution_count": 2,
   "id": "253c436e",
   "metadata": {},
   "outputs": [],
   "source": [
    "gait_map = { 0 : 'Ataxic_Gait',\n",
    " 1 : 'Choreiform_Gait',\n",
    " 2 : 'Diplegic_Gait',\n",
    " 3 : 'Hemiplegic_Gait',\n",
    " 4 : 'Neuropathic_Gait',\n",
    " 5 : 'Normal_gait',\n",
    " 6 : 'Parkinsonian_Gait'\n",
    "}"
   ]
  },
  {
   "cell_type": "code",
   "execution_count": 4,
   "id": "ca87b884",
   "metadata": {},
   "outputs": [
    {
     "name": "stdout",
     "output_type": "stream",
     "text": [
      "Done [demo/demo.mp4] \n",
      "Transformation Pipeline and Model Successfully Loaded\n",
      "\n",
      "-------------------\n",
      "Gait Classification\n",
      "-------------------\n",
      "\n",
      "Normal_gait : 56.637168 %\n",
      "Ataxic_Gait : 12.389381 %\n",
      "Hemiplegic_Gait : 11.504425 %\n",
      "Choreiform_Gait : 8.849558 %\n",
      "Parkinsonian_Gait : 7.964602 %\n",
      "Neuropathic_Gait : 1.769912 %\n",
      "Diplegic_Gait : 0.884956 %\n",
      "\n",
      "============================================\n",
      "Result : Normal_gait / 56.637168 %\n",
      "============================================\n"
     ]
    }
   ],
   "source": [
    "classifcation_result = gait.gait_classification(video_path = \"demo/demo.mp4\",\n",
    "                         model_path = \"model/emsemble_model\",\n",
    "                         class_dict = gait_map)"
   ]
  },
  {
   "cell_type": "markdown",
   "id": "004e68ec",
   "metadata": {},
   "source": [
    "### Save Gait Classification Video\n",
    "* if use custom dataset, **please check class_dict**\n"
   ]
  },
  {
   "cell_type": "code",
   "execution_count": 8,
   "id": "51f54c3f",
   "metadata": {},
   "outputs": [
    {
     "name": "stdout",
     "output_type": "stream",
     "text": [
      "Transformation Pipeline and Model Successfully Loaded\n",
      "Done\n"
     ]
    }
   ],
   "source": [
    "visualize.visualizer(video_path = \"demo/demo.mp4\",\n",
    "                     show_keypoint = True,\n",
    "                     model_path = \"model/emsemble_model\",\n",
    "                    save_path = \"demo/\",\n",
    "                     save_name =\"demo_visualize\", class_dict = gait_map)"
   ]
  }
 ],
 "metadata": {
  "kernelspec": {
   "display_name": "Python 3 (ipykernel)",
   "language": "python",
   "name": "python3"
  },
  "language_info": {
   "codemirror_mode": {
    "name": "ipython",
    "version": 3
   },
   "file_extension": ".py",
   "mimetype": "text/x-python",
   "name": "python",
   "nbconvert_exporter": "python",
   "pygments_lexer": "ipython3",
   "version": "3.8.13"
  }
 },
 "nbformat": 4,
 "nbformat_minor": 5
}
