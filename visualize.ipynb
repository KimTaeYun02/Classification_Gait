{
 "cells": [
  {
   "cell_type": "code",
   "execution_count": 1,
   "id": "8136d01c",
   "metadata": {},
   "outputs": [],
   "source": [
    "import cv2\n",
    "import mediapipe as mp\n",
    "import module.feature_extract as feature\n",
    "import pandas as pd\n",
    "from pycaret.classification import *"
   ]
  },
  {
   "cell_type": "code",
   "execution_count": 2,
   "id": "35df4328",
   "metadata": {},
   "outputs": [],
   "source": [
    "landmark_names = [\n",
    "        'nose',\n",
    "        'left_eye_inner',\n",
    "        'left_eye',\n",
    "        'left_eye_outer',\n",
    "        'right_eye_inner',\n",
    "        'right_eye',\n",
    "        'right_eye_outer',\n",
    "        'left_ear',\n",
    "        'right_ear',\n",
    "        'mouth_left',\n",
    "        'mouth_right',\n",
    "        'left_shoulder',\n",
    "        'right_shoulder',\n",
    "        'left_elbow',\n",
    "        'right_elbow',\n",
    "        'left_wrist', 'right_wrist',\n",
    "        'left_pinky_1', 'right_pinky_1',\n",
    "        'left_index_1', 'right_index_1',\n",
    "        'left_thumb_2', 'right_thumb_2',\n",
    "        'left_hip', 'right_hip',\n",
    "        'left_knee', 'right_knee',\n",
    "        'left_ankle', 'right_ankle',\n",
    "        'left_heel', 'right_heel',\n",
    "        'left_foot_index', 'right_foot_index',\n",
    "    ]\n",
    "\n",
    "landmark_list = []\n",
    "for i in landmark_names:\n",
    "    for j in [\"_x\", \"_y\", \"_z\"]:\n",
    "        landmark_list.append(i + j)\n",
    "        \n",
    "\n",
    "mp_drawing = mp.solutions.drawing_utils\n",
    "mp_drawing_styles = mp.solutions.drawing_styles\n",
    "mp_pose = mp.solutions.pose\n",
    "\n"
   ]
  },
  {
   "cell_type": "code",
   "execution_count": 26,
   "id": "ed968d9e",
   "metadata": {},
   "outputs": [],
   "source": [
    "def visualizer(video_path = None, webcam = False, show_keypoint = False, model_path = None,\n",
    "               save_path = False, save_name = False, class_dict = None, show_video = True):\n",
    "   \n",
    "    label = 0\n",
    "    score = 0\n",
    "    Nan_data = False\n",
    "    \n",
    "    if save_path != False and save_name != False:\n",
    "        save = True\n",
    "    else:\n",
    "        save = False\n",
    "        \n",
    "    if webcam == True:\n",
    "        cap = cv2.VideoCapture(0)\n",
    "    else:\n",
    "        cap = cv2.VideoCapture(video_path)\n",
    "        \n",
    "    fourcc = cv2.VideoWriter_fourcc(*'DIVX')\n",
    "    video_width=cap.get(cv2.CAP_PROP_FRAME_WIDTH)\n",
    "    video_height=cap.get(cv2.CAP_PROP_FRAME_HEIGHT)\n",
    "    video_frame=cap.get(cv2.CAP_PROP_FPS)\n",
    "    out = cv2.VideoWriter(save_path + save_name + \".avi\", fourcc, int(video_frame), (int(video_width), int(video_height)))\n",
    "    loaded_model = load_model(model_path)\n",
    "\n",
    "    with mp_pose.Pose(\n",
    "        min_detection_confidence=0.5,\n",
    "        min_tracking_confidence=0.5) as pose:\n",
    "        while cap.isOpened():\n",
    "            success, image = cap.read()\n",
    "            if not success:\n",
    "                break\n",
    "    \n",
    "            image.flags.writeable = False\n",
    "            image = cv2.cvtColor(image, cv2.COLOR_BGR2RGB)\n",
    "            image_height, image_width, _ = image.shape\n",
    "            results = pose.process(image)\n",
    "            normalize_points = []\n",
    "            \n",
    "            for i in range(len(landmark_names)):\n",
    "                try:\n",
    "                    normalize_points.append(results.pose_world_landmarks.landmark[i].x)\n",
    "                    normalize_points.append(results.pose_world_landmarks.landmark[i].y)\n",
    "                    normalize_points.append(results.pose_world_landmarks.landmark[i].z)\n",
    "                     \n",
    "                except:\n",
    "                    normalize_points.append(None)\n",
    "                    normalize_points.append(None)\n",
    "                    normalize_points.append(None)\n",
    "                    Nan_data = True \n",
    "\n",
    "            if Nan_data == False:\n",
    "                points = pd.DataFrame(columns = landmark_list, data = [normalize_points])\n",
    "                feature_angle = feature.compute_angle_feature(dataframe = points)\n",
    "                feature_len = feature.compute_len_feature(dataframe = points)\n",
    "                feature_diff = feature.compute_diff_feature(dataframe =points)\n",
    "                feature_result = pd.concat([feature_angle, feature_diff, feature_len], axis = 1)\n",
    "                result = predict_model(loaded_model, data = feature_result)\n",
    "                label = class_dict[result[\"Label\"][0]]\n",
    "                score = result[\"Score\"][0]\n",
    "                \n",
    "            Nan_data = False\n",
    "    \n",
    " \n",
    "    #print(\"0\")\n",
    "    \n",
    "            image.flags.writeable = True\n",
    "            image = cv2.cvtColor(image, cv2.COLOR_RGB2BGR)\n",
    "        \n",
    "            if(show_keypoint == True):\n",
    "                mp_drawing.draw_landmarks(\n",
    "                    image,\n",
    "                    results.pose_landmarks,\n",
    "                    mp_pose.POSE_CONNECTIONS,\n",
    "                landmark_drawing_spec=mp_drawing_styles.get_default_pose_landmarks_style())\n",
    "            image = cv2.flip(image, 1) \n",
    "            \n",
    "              \n",
    "        \n",
    "   \n",
    "        \n",
    "            cv2.putText(image, str(label), (20, 30), cv2.FONT_HERSHEY_SIMPLEX, 1, (0, 0,204), 2)\n",
    "            cv2.putText(image, \"Score : %f\" % score, (20, 60), cv2.FONT_HERSHEY_SIMPLEX, 1, (0, 0,204), 2)\n",
    "            \n",
    "            if(save):\n",
    "                out.write(image) \n",
    "            \n",
    "            cv2.imshow('result', image)\n",
    "            \n",
    "           \n",
    "    \n",
    "            if cv2.waitKey(5) & 0xFF == 27:\n",
    "                break\n",
    "        \n",
    "    \n",
    "    if(save):\n",
    "        out.release()\n",
    "    print(\"Done\")\n",
    "    cap.release()\n",
    "    cv2.destroyWindow('result')\n"
   ]
  },
  {
   "cell_type": "code",
   "execution_count": 25,
   "id": "726f79f4",
   "metadata": {
    "scrolled": true
   },
   "outputs": [
    {
     "name": "stdout",
     "output_type": "stream",
     "text": [
      "Transformation Pipeline and Model Successfully Loaded\n",
      "Done\n"
     ]
    }
   ],
   "source": [
    "visualizer(video_path = \"demo/demo.mp4\", webcam = False, show_keypoint = True, model_path = \"model/emsemble_model\",\n",
    "               save_path = \"demo/\", save_name =\"demo_visualize\", class_dict = gait_map)\n"
   ]
  },
  {
   "cell_type": "code",
   "execution_count": 27,
   "id": "469fb496",
   "metadata": {},
   "outputs": [],
   "source": [
    "import module.visualize as visualize"
   ]
  },
  {
   "cell_type": "code",
   "execution_count": 28,
   "id": "a71ad184",
   "metadata": {},
   "outputs": [
    {
     "name": "stdout",
     "output_type": "stream",
     "text": [
      "Transformation Pipeline and Model Successfully Loaded\n",
      "Done\n"
     ]
    }
   ],
   "source": [
    "visualize.visualizer(video_path = \"test/Ataxic Gait.mp4\", webcam = False, show_keypoint = True, model_path = \"model/emsemble_model\",\n",
    "               save_path = \"test/\", save_name =\"Ataxtic_visualize\", class_dict = gait_map)"
   ]
  },
  {
   "cell_type": "code",
   "execution_count": null,
   "id": "e2d535cd",
   "metadata": {},
   "outputs": [],
   "source": []
  }
 ],
 "metadata": {
  "kernelspec": {
   "display_name": "Python 3 (ipykernel)",
   "language": "python",
   "name": "python3"
  },
  "language_info": {
   "codemirror_mode": {
    "name": "ipython",
    "version": 3
   },
   "file_extension": ".py",
   "mimetype": "text/x-python",
   "name": "python",
   "nbconvert_exporter": "python",
   "pygments_lexer": "ipython3",
   "version": "3.8.13"
  }
 },
 "nbformat": 4,
 "nbformat_minor": 5
}
